{
 "cells": [
  {
   "cell_type": "markdown",
   "metadata": {},
   "source": [
    "Learning with Prototypes\n",
    "---\n",
    "\n",
    "We have a data of 4096 features (extracted from a deep learning model). Our task is to predict the class labels of the unseen datapoints.\n",
    "\n",
    "1. We start off by first looking at the data\n",
    "2. Then we compute the means of the 40 seen classes as $\\mu_k$"
   ]
  },
  {
   "cell_type": "code",
   "execution_count": 1,
   "metadata": {},
   "outputs": [],
   "source": [
    "import numpy as np\n",
    "import pickle as p"
   ]
  },
  {
   "cell_type": "markdown",
   "metadata": {},
   "source": [
    "Loading the data and looking at the datashape"
   ]
  },
  {
   "cell_type": "code",
   "execution_count": 2,
   "metadata": {},
   "outputs": [
    {
     "name": "stdout",
     "output_type": "stream",
     "text": [
      "\n",
      "X_seen:                     (40,)\n",
      "Xtest:                      (6180, 4096)\n",
      "Ytest:                      (6180, 1)\n",
      "class_attributes_seen:      (40, 85)\n",
      "class_attributes_unseen:    (10, 85)\n",
      "\n"
     ]
    }
   ],
   "source": [
    "X_seen=np.load('X_seen.npy', allow_pickle=True, encoding='bytes')\n",
    "\n",
    "Xtest=np.load('AwA_python/Xtest.npy')\n",
    "Ytest=np.load('AwA_python/Ytest.npy')\n",
    "\n",
    "class_attributes_seen=np.load('AwA_python/class_attributes_seen.npy')\n",
    "class_attributes_unseen=np.load('AwA_python/class_attributes_unseen.npy')\n",
    "\n",
    "print(f'''\n",
    "X_seen:                     {X_seen.shape}\n",
    "Xtest:                      {Xtest.shape}\n",
    "Ytest:                      {Ytest.shape}\n",
    "class_attributes_seen:      {class_attributes_seen.shape}\n",
    "class_attributes_unseen:    {class_attributes_unseen.shape}\n",
    "''')"
   ]
  },
  {
   "cell_type": "markdown",
   "metadata": {},
   "source": [
    "## Method 1\n",
    "**Steps**\n",
    "1. Compute the mean of each seen class.\n",
    "2. Compute the similarity (dot product based) of each unseen class with each of the seen classes.\n",
    "3. Normalize the similarity vector (to that it sums to 1, since we are using a convex combination).\n",
    "4. Compute the mean of each unseen class using a convex combination of means of seen classes.\n",
    "5. Apply the model to predict labels on unseen class test inputs.\n",
    "6. Compute classification accuracies."
   ]
  },
  {
   "cell_type": "markdown",
   "metadata": {},
   "source": [
    "Computing the means of seen classes"
   ]
  },
  {
   "cell_type": "code",
   "execution_count": 3,
   "metadata": {},
   "outputs": [
    {
     "data": {
      "text/plain": [
       "(40, 4096)"
      ]
     },
     "execution_count": 3,
     "metadata": {},
     "output_type": "execute_result"
    }
   ],
   "source": [
    "means_seen = np.array([row.mean(axis=0) for row in X_seen])\n",
    "means_seen.shape"
   ]
  },
  {
   "cell_type": "markdown",
   "metadata": {},
   "source": [
    "Computing the similarity between the seen and unseen classes by taking a dot product between the vectors for each class.\n",
    "\n",
    "Here we are taking the matrix multiplication of `class_attributes_unseen` of shape `(10, 85)` and `class_attributes_seen.T` of shape `(85, 40)`, which gives us a matrix of shape `(10, 40)`, where each row contains the similarity vector of that unseen class with the seen classes."
   ]
  },
  {
   "cell_type": "code",
   "execution_count": 4,
   "metadata": {},
   "outputs": [
    {
     "data": {
      "text/plain": [
       "(10, 40)"
      ]
     },
     "execution_count": 4,
     "metadata": {},
     "output_type": "execute_result"
    }
   ],
   "source": [
    "# Computing similarity between seen and unseen classes\n",
    "\n",
    "similarities = class_attributes_unseen@class_attributes_seen.T\n",
    "similarities.shape"
   ]
  },
  {
   "cell_type": "markdown",
   "metadata": {},
   "source": [
    "To compute the weighted sum of the means to find the means of the unseen classes we have to normalize the above obtain similarity vectors."
   ]
  },
  {
   "cell_type": "code",
   "execution_count": 5,
   "metadata": {},
   "outputs": [
    {
     "data": {
      "text/plain": [
       "(10, 40)"
      ]
     },
     "execution_count": 5,
     "metadata": {},
     "output_type": "execute_result"
    }
   ],
   "source": [
    "# Normalizing the similarity vector to 1\n",
    "sums = np.sum(similarities, axis=1)\n",
    "norm_similarities = np.array([similarity/sum_val for similarity, sum_val in zip(similarities, sums)])\n",
    "norm_similarities.shape"
   ]
  },
  {
   "cell_type": "markdown",
   "metadata": {},
   "source": [
    "Now we estimate the measn of the unseen classes by taking a weighted sum of the `norm_similarities` with `means_seen`"
   ]
  },
  {
   "cell_type": "code",
   "execution_count": 6,
   "metadata": {},
   "outputs": [
    {
     "data": {
      "text/plain": [
       "(10, 4096)"
      ]
     },
     "execution_count": 6,
     "metadata": {},
     "output_type": "execute_result"
    }
   ],
   "source": [
    "# Computing means of unseen classes using convex combination of means of the seen classes.\n",
    "means_unseen = norm_similarities@means_seen\n",
    "means_unseen.shape"
   ]
  },
  {
   "cell_type": "markdown",
   "metadata": {},
   "source": [
    "### Predict\n",
    "Generating predictions based on the unseen classes on `Xtest` and comparing the same to `Ytest` to calculate accuracy"
   ]
  },
  {
   "cell_type": "code",
   "execution_count": 7,
   "metadata": {},
   "outputs": [
    {
     "data": {
      "text/plain": [
       "(6180, 1)"
      ]
     },
     "execution_count": 7,
     "metadata": {},
     "output_type": "execute_result"
    }
   ],
   "source": [
    "def predict(means, test_input):\n",
    "    distances = np.array([(test_input - mean).T@(test_input - mean) for mean in means])\n",
    "    return np.argmin(distances)+1.0\n",
    "\n",
    "predictions = np.array([predict(means_unseen, test_point) for test_point in Xtest]).reshape(-1, 1)\n",
    "predictions.shape\n"
   ]
  },
  {
   "cell_type": "markdown",
   "metadata": {},
   "source": [
    "Computing the accuracy score"
   ]
  },
  {
   "cell_type": "code",
   "execution_count": 8,
   "metadata": {},
   "outputs": [
    {
     "name": "stdout",
     "output_type": "stream",
     "text": [
      "Accuracy = 46.893%\n"
     ]
    }
   ],
   "source": [
    "from sklearn.metrics import accuracy_score\n",
    "\n",
    "acc = accuracy_score(Ytest, predictions)\n",
    "\n",
    "print(f'Accuracy = {acc*100:.3f}%')"
   ]
  },
  {
   "cell_type": "markdown",
   "metadata": {},
   "source": [
    "## Method 2\n",
    "**Steps**\n",
    "1. Compute the mean of each seen class.\n",
    "2. Learn the multi-output regression model with class attribute vector being the input and the class mean vector being the output (this will use the seen class attributes and their mean vectors).\n",
    "3. Apply the learned regression model to compute the mean of each unseen class.\n",
    "4. Apply the model to predict labels on unseen class test inputs.\n",
    "5. Compute classification accuracies.\n",
    "\n",
    "Note: You need to try several values of the regularization hyperparameter $\\lambda$"
   ]
  },
  {
   "cell_type": "code",
   "execution_count": 9,
   "metadata": {},
   "outputs": [
    {
     "data": {
      "text/plain": [
       "(40, 4096)"
      ]
     },
     "execution_count": 9,
     "metadata": {},
     "output_type": "execute_result"
    }
   ],
   "source": [
    "# Computing the means\n",
    "means_seen = np.array([row.mean(axis=0) for row in X_seen])\n",
    "means_seen.shape"
   ]
  },
  {
   "cell_type": "code",
   "execution_count": 10,
   "metadata": {},
   "outputs": [
    {
     "data": {
      "text/plain": [
       "(85, 4096)"
      ]
     },
     "execution_count": 10,
     "metadata": {},
     "output_type": "execute_result"
    }
   ],
   "source": [
    "X = class_attributes_seen\n",
    "y = means_seen\n",
    "lambd = 1 * np.eye(85)\n",
    "weights = np.linalg.inv(X.T@X + lambd)@X.T@y\n",
    "weights.shape"
   ]
  },
  {
   "cell_type": "code",
   "execution_count": 11,
   "metadata": {},
   "outputs": [
    {
     "data": {
      "text/plain": [
       "(10, 4096)"
      ]
     },
     "execution_count": 11,
     "metadata": {},
     "output_type": "execute_result"
    }
   ],
   "source": [
    "means_unseen = class_attributes_unseen@weights\n",
    "means_unseen.shape"
   ]
  },
  {
   "cell_type": "code",
   "execution_count": 12,
   "metadata": {},
   "outputs": [
    {
     "data": {
      "text/plain": [
       "(6180, 1)"
      ]
     },
     "execution_count": 12,
     "metadata": {},
     "output_type": "execute_result"
    }
   ],
   "source": [
    "def predict(means, test_input):\n",
    "    distances = np.array([(test_input - mean).T@(test_input - mean) for mean in means])\n",
    "    return np.argmin(distances)+1.0\n",
    "\n",
    "predictions = np.array([predict(means_unseen, test_point) for test_point in Xtest]).reshape(-1, 1)\n",
    "predictions.shape"
   ]
  },
  {
   "cell_type": "code",
   "execution_count": 13,
   "metadata": {},
   "outputs": [
    {
     "name": "stdout",
     "output_type": "stream",
     "text": [
      "Accuracy = 67.395%\n"
     ]
    }
   ],
   "source": [
    "from sklearn.metrics import accuracy_score\n",
    "\n",
    "acc = accuracy_score(Ytest, predictions)\n",
    "\n",
    "print(f'Accuracy = {acc*100:.3f}%')"
   ]
  },
  {
   "cell_type": "code",
   "execution_count": 14,
   "metadata": {},
   "outputs": [],
   "source": [
    "# Putting it all together to get a graph\n",
    "accuracies = []\n",
    "X = class_attributes_seen\n",
    "y = means_seen\n",
    "lambdas = [0.01, 0.1] + list(np.arange(0.5, 10, 0.5)) + [10, 20, 50, 100]\n",
    "max_accuracy = -1\n",
    "optimal_lambda = 0\n",
    "for l in lambdas:\n",
    "    lambd = l * np.eye(85)\n",
    "    weights = np.linalg.inv(X.T@X + lambd)@X.T@y\n",
    "    means_unseen = class_attributes_unseen@weights\n",
    "    predictions = np.array([predict(means_unseen, test_point) for test_point in Xtest]).reshape(-1, 1)\n",
    "    acc = accuracy_score(Ytest, predictions)\n",
    "    accuracies.append(acc)\n",
    "    if(acc>max_accuracy):\n",
    "        max_accuracy = acc\n",
    "        optimal_lambda = l\n",
    "\n",
    "accuracies = np.array(accuracies)"
   ]
  },
  {
   "cell_type": "code",
   "execution_count": 28,
   "metadata": {},
   "outputs": [
    {
     "data": {
      "text/plain": [
       "<matplotlib.legend.Legend at 0x7fbe1b274370>"
      ]
     },
     "execution_count": 28,
     "metadata": {},
     "output_type": "execute_result"
    },
    {
     "data": {
      "image/png": "[encoded data removed]",
      "text/plain": [
       "<Figure size 1200x400 with 2 Axes>"
      ]
     },
     "metadata": {},
     "output_type": "display_data"
    }
   ],
   "source": [
    "import matplotlib.pyplot as plt\n",
    "\n",
    "fig, ax = plt.subplots(1, 2, figsize=(12, 4))\n",
    "\n",
    "ax[0].plot(lambdas, accuracies, label='Accuracy')\n",
    "ax[0].axvline(x=optimal_lambda)\n",
    "ax[0].set_title('Accuracy vs Lambda')\n",
    "ax[0].set_xlabel('Lambda')\n",
    "ax[0].set_ylabel('Accuracy score')\n",
    "\n",
    "ax[1].plot(lambdas, accuracies, label='Accuracy')\n",
    "ax[1].axvline(x=optimal_lambda)\n",
    "ax[1].set_title('Accuracy vs Lambda')\n",
    "ax[1].set_xlabel('log(Lambda)')\n",
    "ax[1].set_xscale('log')\n",
    "ax[1].set_ylabel('Accuracy score')\n",
    "\n",
    "props = dict(boxstyle='round', facecolor='wheat', alpha=0.5)\n",
    "ax[0].text(0.48, 0.8, r'optimal $\\lambda=%.2f$'%optimal_lambda + '\\n' + 'best accuracy=%.3f%%'%(max_accuracy*100), transform=ax[0].transAxes, fontsize=12, bbox=props)\n",
    "plt.legend()"
   ]
  },
  {
   "cell_type": "code",
   "execution_count": 16,
   "metadata": {},
   "outputs": [
    {
     "data": {
      "text/plain": [
       "6.5"
      ]
     },
     "execution_count": 16,
     "metadata": {},
     "output_type": "execute_result"
    }
   ],
   "source": [
    "optimal_lambda"
   ]
  },
  {
   "cell_type": "code",
   "execution_count": 15,
   "metadata": {},
   "outputs": [
    {
     "data": {
      "text/plain": [
       "[0.01,\n",
       " 0.1,\n",
       " 0.5,\n",
       " 1.0,\n",
       " 1.5,\n",
       " 2.0,\n",
       " 2.5,\n",
       " 3.0,\n",
       " 3.5,\n",
       " 4.0,\n",
       " 4.5,\n",
       " 5.0,\n",
       " 5.5,\n",
       " 6.0,\n",
       " 6.5,\n",
       " 7.0,\n",
       " 7.5,\n",
       " 8.0,\n",
       " 8.5,\n",
       " 9.0,\n",
       " 9.5,\n",
       " 10,\n",
       " 20,\n",
       " 50,\n",
       " 100]"
      ]
     },
     "execution_count": 15,
     "metadata": {},
     "output_type": "execute_result"
    }
   ],
   "source": [
    "lambdas"
   ]
  }
 ],
 "metadata": {
  "kernelspec": {
   "display_name": "Python 3 (ipykernel)",
   "language": "python",
   "name": "python3"
  },
  "language_info": {
   "codemirror_mode": {
    "name": "ipython",
    "version": 3
   },
   "file_extension": ".py",
   "mimetype": "text/x-python",
   "name": "python",
   "nbconvert_exporter": "python",
   "pygments_lexer": "ipython3",
   "version": "3.9.17"
  }
 },
 "nbformat": 4,
 "nbformat_minor": 4
}
